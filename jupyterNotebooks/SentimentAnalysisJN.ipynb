{
 "cells": [
  {
   "cell_type": "code",
   "execution_count": 7,
   "metadata": {
    "collapsed": true
   },
   "outputs": [],
   "source": [
    "from urllib.request import urlopen, Request\n",
    "from bs4 import BeautifulSoup\n",
    "import pandas as pd\n",
    "from nltk.sentiment.vader import SentimentIntensityAnalyzer\n",
    "import plotly.express as px"
   ]
  },
  {
   "cell_type": "code",
   "execution_count": 8,
   "outputs": [],
   "source": [
    "# Include the tickers you want to generate sentiment score for\n",
    "ticker_list = ['JPM']\n",
    "# url for fetching news headlines\n",
    "finwizUrl = \"https://finviz.com/quote.ashx?t=\"\n",
    "requestHeader_dict = {'User-Agent': 'Mozilla/5.0 (Windows NT 6.1; WOW64; rv:20.0) Gecko/20100101 Firefox/20.0'}\n",
    "news_dict = {}\n",
    "# Scrape news headlines table from webpage for each stock\n",
    "for i in range(len(ticker_list)):\n",
    "    response = urlopen(Request(url=finwizUrl + ticker_list[i], headers=requestHeader_dict))\n",
    "    htmlTable = BeautifulSoup(response).find(id=\"news-table\")\n",
    "    news_dict[ticker_list[i]] = htmlTable"
   ],
   "metadata": {
    "collapsed": false,
    "pycharm": {
     "name": "#%%\n"
    }
   }
  },
  {
   "cell_type": "code",
   "execution_count": 9,
   "outputs": [],
   "source": [
    "# prepare the data by labelling the news headlines along with date and time\n",
    "parsed_news = []\n",
    "news_date, news_time = \"\", \"\"\n",
    "for ticker_key, ticker_table in news_dict.items():\n",
    "    for row in ticker_table.findAll(\"tr\"):\n",
    "        # extract the actual news headline text\n",
    "        news_headline = row.a.get_text()\n",
    "        date_info = row.td.get_text().split()\n",
    "        # date info may contain only time or both date and time\n",
    "        if len(date_info) == 2:\n",
    "            news_date = date_info[0]\n",
    "            news_time = date_info[1]\n",
    "        else:\n",
    "            news_time = date_info[0]\n",
    "        parsed_news.append([ticker_key, news_date, news_time, news_headline])"
   ],
   "metadata": {
    "collapsed": false,
    "pycharm": {
     "name": "#%%\n"
    }
   }
  },
  {
   "cell_type": "code",
   "execution_count": null,
   "outputs": [],
   "source": [
    "# initialize the vader sentiment analyzer\n",
    "vader_analyser = SentimentIntensityAnalyzer()\n",
    "# Setup dataframe using news headlines and date info\n",
    "df_news = pd.DataFrame(parsed_news, columns=['Ticker', 'Date', 'Time', 'News Headline'])\n",
    "# create date object from date string\n",
    "df_news['Date'] = pd.to_datetime(df_news.Date).dt.date\n",
    "# generate sentiment scores for all news headlines\n",
    "sentiment_scores = pd.DataFrame(df_news['News Headline'].apply(vader_analyser.polarity_scores).tolist())\n",
    "# attach these scores to original dataframe\n",
    "df_news = df_news.join(sentiment_scores, rsuffix='_right')\n",
    "# calculate daily average compound score for each ticker\n",
    "average_daily_scores = df_news.groupby(['Ticker', 'Date']).mean()\n",
    "average_daily_compound_scores = average_daily_scores.unstack().xs('compound', axis=\"columns\").transpose()\n",
    "average_daily_compound_scores"
   ],
   "metadata": {
    "collapsed": false,
    "pycharm": {
     "name": "#%%\n",
     "is_executing": true
    }
   }
  },
  {
   "cell_type": "code",
   "execution_count": null,
   "outputs": [],
   "source": [
    "# plot the bar graph displaying the average daily compound score\n",
    "fig = px.bar(average_daily_compound_scores)\n",
    "fig.update_layout(barmode='group')\n",
    "fig.show()"
   ],
   "metadata": {
    "collapsed": false,
    "pycharm": {
     "name": "#%%\n",
     "is_executing": true
    }
   }
  },
  {
   "cell_type": "code",
   "execution_count": 12,
   "outputs": [],
   "source": [
    "fig.write_image(\"sentScore.png\")"
   ],
   "metadata": {
    "collapsed": false,
    "pycharm": {
     "name": "#%%\n"
    }
   }
  },
  {
   "cell_type": "markdown",
   "source": [],
   "metadata": {
    "collapsed": false,
    "pycharm": {
     "name": "#%% md\n"
    }
   }
  }
 ],
 "metadata": {
  "kernelspec": {
   "display_name": "Python 3",
   "language": "python",
   "name": "python3"
  },
  "language_info": {
   "codemirror_mode": {
    "name": "ipython",
    "version": 2
   },
   "file_extension": ".py",
   "mimetype": "text/x-python",
   "name": "python",
   "nbconvert_exporter": "python",
   "pygments_lexer": "ipython2",
   "version": "2.7.6"
  }
 },
 "nbformat": 4,
 "nbformat_minor": 0
}