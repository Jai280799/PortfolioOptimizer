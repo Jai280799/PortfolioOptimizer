{
 "cells": [
  {
   "cell_type": "code",
   "execution_count": 1,
   "metadata": {
    "collapsed": true
   },
   "outputs": [],
   "source": [
    "import plotly.tools as tls\n",
    "import numpy as np\n",
    "import matplotlib.pyplot as plt\n",
    "import pandas_datareader as pdr\n",
    "import pandas_ta as ta\n",
    "import pandas as pd\n",
    "import plotly.express as px\n",
    "from datetime import date\n",
    "from datetime import timedelta"
   ]
  },
  {
   "cell_type": "code",
   "execution_count": 2,
   "outputs": [],
   "source": [
    "# securities to be included in the portfolio building process\n",
    "securities_list = ['AAPL', 'AMZN', 'FB', 'GOOGL', 'MSFT']\n",
    "returnSeriesList = []\n",
    "# fetch data from yahoo finance and calculate the daily percent return using pandas_ta lib\n",
    "for s in securities_list:\n",
    "    returnSeriesList.append(pdr.DataReader(s, data_source='yahoo', start=str(date.today() - timedelta(days=730)),\n",
    "                                           end=str(date.today() - timedelta(days=1))).ta.percent_return(length=1))\n",
    "returns_df = pd.concat(returnSeriesList, axis=1)\n",
    "returns_df.columns = securities_list\n",
    "returns_df.dropna(inplace=True)"
   ],
   "metadata": {
    "collapsed": false,
    "pycharm": {
     "name": "#%%\n"
    }
   }
  },
  {
   "cell_type": "code",
   "execution_count": 3,
   "outputs": [],
   "source": [
    "# Risk-free rate taken as US Treasury Bill rate\n",
    "risk_free_rate = 0.0151\n",
    "num_assets = len(securities_list)\n",
    "# generate 10000 portfolios and choose best one\n",
    "num_portfolios = 10000"
   ],
   "metadata": {
    "collapsed": false,
    "pycharm": {
     "name": "#%%\n"
    }
   }
  },
  {
   "cell_type": "code",
   "execution_count": 4,
   "outputs": [],
   "source": [
    "# get mean returns and covariance\n",
    "mean_returns = returns_df.mean()\n",
    "cov_returns = returns_df.cov()"
   ],
   "metadata": {
    "collapsed": false,
    "pycharm": {
     "name": "#%%\n"
    }
   }
  },
  {
   "cell_type": "code",
   "execution_count": null,
   "outputs": [],
   "source": [
    "# plot graph to view the volatility of the stocks\n",
    "returns_graph = plt.figure()\n",
    "plt.plot(returns_df.to_numpy(), alpha=.4)\n",
    "plt.xlabel(\"Days\")\n",
    "plt.ylabel(\"Returns\")\n",
    "plt.legend(securities_list)\n",
    "returns_graph = tls.mpl_to_plotly(returns_graph)\n",
    "returns_graph.layout.height = 400\n",
    "returns_graph.layout.width = 800\n",
    "returns_graph.show()\n",
    "returns_graph.write_image(\"stockReturns.png\")"
   ],
   "metadata": {
    "collapsed": false,
    "pycharm": {
     "name": "#%%\n",
     "is_executing": true
    }
   }
  },
  {
   "cell_type": "code",
   "execution_count": 6,
   "outputs": [],
   "source": [
    "# generate random weight vector for making portfolio\n",
    "def getWeightVector(n):\n",
    "    weights = np.random.random(n)\n",
    "    return weights / sum(weights)"
   ],
   "metadata": {
    "collapsed": false,
    "pycharm": {
     "name": "#%%\n"
    }
   }
  },
  {
   "cell_type": "code",
   "execution_count": 7,
   "outputs": [],
   "source": [
    "# calculate the returns and volatility of the portfolio\n",
    "def portfolioPerformance(mean_returns, cov_returns, weight_vector, num_trading_days):\n",
    "    ret = np.sum(mean_returns * weight_vector) * num_trading_days\n",
    "    weight_vec_trans = weight_vector.T\n",
    "    std = np.sqrt(np.dot(weight_vec_trans, np.dot(cov_returns, weight_vector))) * np.sqrt(252)\n",
    "    return std, ret"
   ],
   "metadata": {
    "collapsed": false,
    "pycharm": {
     "name": "#%%\n"
    }
   }
  },
  {
   "cell_type": "code",
   "execution_count": 8,
   "outputs": [],
   "source": [
    "# generate the specified number of portfolios and calculate their performance\n",
    "def generatePortfolios():\n",
    "    portfolio_weights = []\n",
    "    portfolio_results = np.zeros((3, num_portfolios))\n",
    "    for i in range(num_portfolios):\n",
    "        weight_vector = getWeightVector(num_assets)\n",
    "        portfolio_weights.append(weight_vector)\n",
    "        portfolio_results[0, i], portfolio_results[1, i] = portfolioPerformance(mean_returns, cov_returns,\n",
    "                                                                                weight_vector, 252)\n",
    "        # calculate the Sharpe Ratio\n",
    "        portfolio_results[2, i] = (portfolio_results[1, i] - risk_free_rate) / portfolio_results[0, i]\n",
    "    return portfolio_results, portfolio_weights"
   ],
   "metadata": {
    "collapsed": false,
    "pycharm": {
     "name": "#%%\n"
    }
   }
  },
  {
   "cell_type": "code",
   "execution_count": null,
   "outputs": [],
   "source": [
    "portfolio_results, portfolio_weights = generatePortfolios()\n",
    "# get index position of portfolio with highest Sharpe Ratio\n",
    "best_sharpe_ratio_index = np.argmax(portfolio_results[2])\n",
    "best_portfolio_volatility, best_portfolio_annl_return = portfolio_results[0, best_sharpe_ratio_index],portfolio_results[1, best_sharpe_ratio_index]\n",
    "# plot the risk and returns of all portfolios and highlight the chosen portfolio (highest sharpe ratio) in red\n",
    "portfolios_graph = plt.figure()\n",
    "plt.plot(portfolio_results[0, :], portfolio_results[1, :], 'o', markersize=5)\n",
    "plt.plot(best_portfolio_volatility, best_portfolio_annl_return, 'r-o', markersize=15)\n",
    "plt.xlabel('Risk')\n",
    "plt.ylabel('Returns')\n",
    "portfolios_graph = tls.mpl_to_plotly(portfolios_graph)\n",
    "portfolios_graph.layout.height = 400\n",
    "portfolios_graph.layout.width = 800\n",
    "portfolios_graph.show()\n",
    "portfolios_graph.write_image(\"portfolios.png\")"
   ],
   "metadata": {
    "collapsed": false,
    "pycharm": {
     "name": "#%%\n",
     "is_executing": true
    }
   }
  },
  {
   "cell_type": "code",
   "execution_count": null,
   "outputs": [],
   "source": [
    "# View the composition of the optimal portfolio along with its performance\n",
    "best_portfolio_alloc = pd.DataFrame(portfolio_weights[best_sharpe_ratio_index], index=securities_list,\n",
    "                                    columns=['Allocation'])\n",
    "best_portfolio_alloc['Allocation'] = [round(i * 100, 2) for i in best_portfolio_alloc['Allocation']]\n",
    "best_portfolio_alloc = best_portfolio_alloc.T\n",
    "print(\"Best portfolio details\")\n",
    "print(\"Annualised Returns {:.2f}%\".format(best_portfolio_annl_return * 100))\n",
    "print(\"Annualised Volatility {:.2f}%\".format(best_portfolio_volatility * 100))\n",
    "print(\"Securities distribution: \")\n",
    "print(best_portfolio_alloc)"
   ],
   "metadata": {
    "collapsed": false,
    "pycharm": {
     "name": "#%%\n",
     "is_executing": true
    }
   }
  },
  {
   "cell_type": "code",
   "execution_count": null,
   "outputs": [],
   "source": [
    "# Display pie chart as visual aid for portfolio composition\n",
    "fig = px.pie(best_portfolio_alloc.T, values='Allocation', names=best_portfolio_alloc.T.index, title='Optimal Portfolio')\n",
    "fig.show()\n",
    "fig.write_image(\"optimalPortfolioComposition.png\")"
   ],
   "metadata": {
    "collapsed": false,
    "pycharm": {
     "name": "#%%\n",
     "is_executing": true
    }
   }
  }
 ],
 "metadata": {
  "kernelspec": {
   "display_name": "Python 3",
   "language": "python",
   "name": "python3"
  },
  "language_info": {
   "codemirror_mode": {
    "name": "ipython",
    "version": 2
   },
   "file_extension": ".py",
   "mimetype": "text/x-python",
   "name": "python",
   "nbconvert_exporter": "python",
   "pygments_lexer": "ipython2",
   "version": "2.7.6"
  }
 },
 "nbformat": 4,
 "nbformat_minor": 0
}