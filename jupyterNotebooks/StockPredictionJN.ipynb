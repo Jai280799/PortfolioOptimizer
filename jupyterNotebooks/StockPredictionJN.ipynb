{
 "cells": [
  {
   "cell_type": "code",
   "execution_count": 1,
   "metadata": {
    "collapsed": true
   },
   "outputs": [],
   "source": [
    "import pandas as pd\n",
    "import pandas_datareader as pdr\n",
    "import numpy as np\n",
    "import tensorflow as tf\n",
    "from sklearn.preprocessing import MinMaxScaler, StandardScaler\n",
    "from tensorflow.keras.models import Sequential\n",
    "from tensorflow.keras.callbacks import ModelCheckpoint, EarlyStopping, ReduceLROnPlateau\n",
    "from tensorflow.keras.optimizers import Adam\n",
    "from sklearn.decomposition import PCA\n",
    "from tensorflow.keras.layers import LSTM, Dense, Dropout, Reshape\n",
    "from matplotlib import pyplot as plt\n",
    "import pandas_ta as ta\n",
    "import plotly.tools as tls\n",
    "from sklearn.feature_selection import RFECV\n",
    "from sklearn.ensemble import RandomForestRegressor\n",
    "from datetime import date\n",
    "from datetime import timedelta\n",
    "from tensorflow.python.keras.models import load_model\n",
    "from sklearn.metrics import mean_squared_error"
   ]
  },
  {
   "cell_type": "code",
   "execution_count": 2,
   "outputs": [],
   "source": [
    "physical_devices = tf.config.list_physical_devices('GPU')\n",
    "tf.config.experimental.set_memory_growth(physical_devices[0], enable=True)"
   ],
   "metadata": {
    "collapsed": false,
    "pycharm": {
     "name": "#%%\n"
    }
   }
  },
  {
   "cell_type": "code",
   "execution_count": 3,
   "outputs": [],
   "source": [
    "# Specify stock name and corresponding ticker logo\n",
    "stock_name = \"Walmart\"\n",
    "ticker = 'WMT'"
   ],
   "metadata": {
    "collapsed": false,
    "pycharm": {
     "name": "#%%\n"
    }
   }
  },
  {
   "cell_type": "code",
   "execution_count": 4,
   "outputs": [],
   "source": [
    "# get data from yahoo finance for last 10 years\n",
    "df_stockData = pdr.DataReader(ticker, data_source='yahoo', start=str(date.today() - timedelta(days=365 * 10)),\n",
    "                              end=str(date.today() - timedelta(days=1)))\n",
    "# Add indicators using pandas ta lib\n",
    "# add Exponential Moving Average (EMA) indicator\n",
    "df_stockData.ta.ema(close='Close', length=3, append=True)\n",
    "# add Relative Strength Index (RSI) Indicator\n",
    "df_stockData.ta.rsi(close='Close', length=7, append=True)\n",
    "# add Average Directional Index (ADX) indicator\n",
    "df_stockData.ta.adx(high='High', low='Low', close='Close', length=3, append=True)\n",
    "# Add Moving Average Convergence Divergence (MACD) indicator\n",
    "df_stockData.ta.macd(close='Close', append=True)\n",
    "# Add On-Balance Volume indicator\n",
    "df_stockData.ta.obv(close='Close', volume='Volume', append=True)\n",
    "# Add Daily Percent Return\n",
    "df_stockData.ta.percent_return(length=1, append=True)\n",
    "# Add Stochastic Momentum Index (SMI)\n",
    "df_stockData.ta.smi(close='Close', append=True)\n",
    "# Average of open, high, low and close price\n",
    "df_stockData.ta.ohlc4(open='Open', high='High', low='Low', close='Close', append=True)\n",
    "\n",
    "df_stockData.dropna(inplace=True)\n",
    "# cols = list(df_stockData.columns)"
   ],
   "metadata": {
    "collapsed": false,
    "pycharm": {
     "name": "#%%\n"
    }
   }
  },
  {
   "cell_type": "code",
   "execution_count": 5,
   "outputs": [],
   "source": [
    "def performRFE():\n",
    "    rfecv = RFECV(\n",
    "        estimator=RandomForestRegressor(),\n",
    "        min_features_to_select=1,\n",
    "        step=2,\n",
    "        n_jobs=-1,\n",
    "        scoring=\"r2\",\n",
    "        cv=5,\n",
    "    )\n",
    "    cols_rfe = list(df_stockData.columns)\n",
    "    # Exclude close price from RFE process\n",
    "    cols_rfe.remove('Close')\n",
    "    rfecv.fit(StandardScaler().fit_transform(df_stockData.loc[:, cols_rfe]),\n",
    "              np.array(df_stockData['Close'].values).reshape(-1, ))\n",
    "\n",
    "    # get importance scores for selected features\n",
    "    feature_importance_df = pd.DataFrame()\n",
    "    feature_importance_df['Features'] = list(df_stockData.loc[:, cols_rfe].columns[rfecv.support_])\n",
    "    feature_importance_df['Importance'] = rfecv.estimator_.feature_importances_\n",
    "    feature_importance_df = feature_importance_df.sort_values(by='Importance', ascending=False)\n",
    "    plt.figure(figsize=(8, 4))\n",
    "    plt.barh(y=feature_importance_df['Features'], width=feature_importance_df['Importance'], color='green')\n",
    "    plt.title(\"RFE Features importance score for {}\".format(ticker))\n",
    "    plt.xlabel(\"Importance score\")\n",
    "    plt.show()\n",
    "    # return the selected feature in descending order of importance\n",
    "    return list(feature_importance_df['Features'].values)\n",
    "\n"
   ],
   "metadata": {
    "collapsed": false,
    "pycharm": {
     "name": "#%%\n"
    }
   }
  },
  {
   "cell_type": "code",
   "execution_count": null,
   "outputs": [],
   "source": [
    "selected_features = performRFE()\n",
    "if len(selected_features) > 2:\n",
    "    selected_features = selected_features[:2]\n",
    "# Add back selected features\n",
    "selected_features.append('Close')\n",
    "\n",
    "# Normalize the data using range (0,1)\n",
    "print(\"Selected Features: {}\".format(selected_features))\n",
    "scaler_x = MinMaxScaler(feature_range=(0, 1))\n",
    "scaler_y = MinMaxScaler(feature_range=(0, 1))\n",
    "df_stockData_x = scaler_x.fit_transform(df_stockData[selected_features])\n",
    "df_stockData_y = scaler_y.fit_transform(np.array(df_stockData['Close'].values).reshape(-1, 1))"
   ],
   "metadata": {
    "collapsed": false,
    "pycharm": {
     "name": "#%%\n",
     "is_executing": true
    }
   }
  },
  {
   "cell_type": "code",
   "execution_count": 7,
   "outputs": [],
   "source": [
    "# Perform PCA to get new components while maintaining 95% covariance in data\n",
    "pca = PCA(n_components=0.95)\n",
    "df_stockData_x = pca.fit_transform(df_stockData_x)"
   ],
   "metadata": {
    "collapsed": false,
    "pycharm": {
     "name": "#%%\n"
    }
   }
  },
  {
   "cell_type": "code",
   "execution_count": 8,
   "outputs": [],
   "source": [
    "# prep data using rolling window technique (21 days input) -. (3 days predicted output)\n",
    "def prepData(data_x, data_y):\n",
    "    x = []\n",
    "    y = []\n",
    "    for i in range(numPastDays, len(data_x) - numFutureDays + 1):\n",
    "        x.append(data_x[i - numPastDays:i, :])\n",
    "        y.append(data_y[i:i + numFutureDays])\n",
    "    x = np.array(x)\n",
    "    y = np.array(y)\n",
    "    return x, y"
   ],
   "metadata": {
    "collapsed": false,
    "pycharm": {
     "name": "#%%\n"
    }
   }
  },
  {
   "cell_type": "code",
   "execution_count": 9,
   "outputs": [],
   "source": [
    "# use prior 21 days input to predict close price of next 3 days\n",
    "numPastDays, numFutureDays = 21, 3\n",
    "# Reserve last 3 days as train set and use other remaining data as test set\n",
    "train_size = len(df_stockData) - numFutureDays\n",
    "x_train = df_stockData_x[0:train_size]\n",
    "y_train = df_stockData_y[0:train_size]\n",
    "x_test = df_stockData_x[train_size - numPastDays - numFutureDays + 1:]\n",
    "y_test = df_stockData_y[train_size - numPastDays - numFutureDays + 1:]\n",
    "x_train, y_train = prepData(x_train, y_train)\n",
    "x_test, y_test = prepData(x_test, y_test)"
   ],
   "metadata": {
    "collapsed": false,
    "pycharm": {
     "name": "#%%\n"
    }
   }
  },
  {
   "cell_type": "code",
   "execution_count": null,
   "outputs": [],
   "source": [
    "# build LSTM model for prediction\n",
    "model = Sequential()\n",
    "model.add(\n",
    "    LSTM(200, activation='tanh', recurrent_activation='sigmoid', input_shape=(x_train.shape[1], x_train.shape[2]),\n",
    "         return_sequences=True))\n",
    "model.add(LSTM(100, activation='tanh', recurrent_activation='sigmoid', return_sequences=False))\n",
    "model.add(Dense(50))\n",
    "# output 3 predicted values (close price)\n",
    "model.add(Dense(y_train.shape[1]))\n",
    "model.add(Reshape((y_train.shape[1], y_train.shape[2])))\n",
    "model.compile(optimizer=Adam(learning_rate=0.001), loss='mse', metrics=[tf.keras.metrics.MeanSquaredError()])\n",
    "model.summary()"
   ],
   "metadata": {
    "collapsed": false,
    "pycharm": {
     "name": "#%%\n",
     "is_executing": true
    }
   }
  },
  {
   "cell_type": "code",
   "execution_count": null,
   "outputs": [],
   "source": [
    "# Use callback function to save model with lowest validation loss and avoid using overfitted models (will create a file to save model)\n",
    "checkpoint = ModelCheckpoint(\"model.h5\", monitor='val_loss', verbose=1, save_best_only=True, save_weights_only=False,\n",
    "                             mode='auto', period=1)\n",
    "# Implement automatic learning rate reduction when validation losses doesn't decrease after 7 epochs\n",
    "lr_reducer = ReduceLROnPlateau(monitor='val_loss', factor=0.2, patience=5, min_lr=0.00001, mode='auto')\n",
    "\n",
    "#train model using training data over 30 epochs\n",
    "history = model.fit(x_train, y_train, epochs=30, batch_size=5, validation_split=0.2, verbose=1,\n",
    "                    callbacks=[checkpoint, lr_reducer])"
   ],
   "metadata": {
    "collapsed": false,
    "pycharm": {
     "name": "#%%\n",
     "is_executing": true
    }
   }
  },
  {
   "cell_type": "code",
   "execution_count": null,
   "outputs": [],
   "source": [
    "# load model with lowest validation loss\n",
    "model = load_model(\"model.h5\")\n",
    "# evaluate loss on test set\n",
    "model.evaluate(x_test, y_test)"
   ],
   "metadata": {
    "collapsed": false,
    "pycharm": {
     "name": "#%%\n",
     "is_executing": true
    }
   }
  },
  {
   "cell_type": "code",
   "execution_count": 13,
   "outputs": [],
   "source": [
    "# get predictions using test set and unscale it\n",
    "prediction_results = model.predict(x_test)\n",
    "unscaled_pred = scaler_y.inverse_transform(prediction_results[-1].reshape(-1, 1))\n",
    "unscaled_target = scaler_y.inverse_transform(y_test[-1].reshape(-1, 1))"
   ],
   "metadata": {
    "collapsed": false,
    "pycharm": {
     "name": "#%%\n"
    }
   }
  },
  {
   "cell_type": "code",
   "execution_count": null,
   "outputs": [],
   "source": [
    "# prepare dataframe to view the actual and predicted results for last 3 days\n",
    "comparedDF = df_stockData.filter(['Close'])[train_size:]\n",
    "comparedDF['Predicted'] = unscaled_pred\n",
    "comparedDF"
   ],
   "metadata": {
    "collapsed": false,
    "pycharm": {
     "name": "#%%\n",
     "is_executing": true
    }
   }
  },
  {
   "cell_type": "code",
   "execution_count": null,
   "outputs": [],
   "source": [
    "prediction_graph = plt.figure(figsize=(16, 8))\n",
    "plt.title(\"Prediction results for {}({})\".format(stock_name, ticker))\n",
    "plt.xlabel('Date', fontsize=18)\n",
    "plt.ylabel('Close Price (USD)', fontsize=18)\n",
    "plt.plot(df_stockData[train_size - 20:train_size + 1]['Close'])\n",
    "plt.plot(comparedDF[['Close', 'Predicted']])\n",
    "plt.legend(['Training', 'Test (actual)', 'Predictions'], loc='lower left')\n",
    "plt.show()\n",
    "prediction_graph = tls.mpl_to_plotly(prediction_graph)\n",
    "prediction_graph.write_image(\"{}_prediction.png\".format(ticker))"
   ],
   "metadata": {
    "collapsed": false,
    "pycharm": {
     "name": "#%%\n",
     "is_executing": true
    }
   }
  },
  {
   "cell_type": "code",
   "execution_count": null,
   "outputs": [],
   "source": [
    "# view the Root Mean Square Error (RMSE)\n",
    "print(\"RMSE : {}\".format(mean_squared_error(unscaled_target, unscaled_pred, squared=False)))"
   ],
   "metadata": {
    "collapsed": false,
    "pycharm": {
     "name": "#%%\n",
     "is_executing": true
    }
   }
  },
  {
   "cell_type": "code",
   "execution_count": null,
   "outputs": [],
   "source": [
    "if unscaled_pred[0] < unscaled_pred[numFutureDays - 1] and unscaled_pred[numFutureDays - 1] > df_stockData.iloc[\n",
    "                                                                                              train_size - 1:train_size,\n",
    "                                                                                              3:4].values:\n",
    "    print(\"Bullish phase predicted for {}\".format(stock_name))\n",
    "else:\n",
    "    print(\"Bearish phase predicted for {}\".format(stock_name))"
   ],
   "metadata": {
    "collapsed": false,
    "pycharm": {
     "name": "#%%\n",
     "is_executing": true
    }
   }
  },
  {
   "cell_type": "code",
   "execution_count": 17,
   "outputs": [],
   "source": [],
   "metadata": {
    "collapsed": false,
    "pycharm": {
     "name": "#%%\n"
    }
   }
  }
 ],
 "metadata": {
  "kernelspec": {
   "display_name": "Python 3",
   "language": "python",
   "name": "python3"
  },
  "language_info": {
   "codemirror_mode": {
    "name": "ipython",
    "version": 2
   },
   "file_extension": ".py",
   "mimetype": "text/x-python",
   "name": "python",
   "nbconvert_exporter": "python",
   "pygments_lexer": "ipython2",
   "version": "2.7.6"
  }
 },
 "nbformat": 4,
 "nbformat_minor": 0
}